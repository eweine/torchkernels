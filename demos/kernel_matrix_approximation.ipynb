{
 "cells": [
  {
   "cell_type": "markdown",
   "metadata": {},
   "source": [
    "# Kernel Matrix Approximation using random features"
   ]
  },
  {
   "cell_type": "code",
   "execution_count": 1,
   "metadata": {},
   "outputs": [],
   "source": [
    "import torch\n",
    "from torchkernels.kernels.radial import laplacian\n",
    "from torchkernels.feature_maps import LaplacianORF"
   ]
  },
  {
   "cell_type": "code",
   "execution_count": 2,
   "metadata": {},
   "outputs": [],
   "source": [
    "DEVICE = torch.device(\"cuda\") if torch.cuda.is_available() else torch.device(\"cpu\")\n",
    "n, d = 10, 10\n",
    "num_features = int(3e4) # number of random features\n",
    "X = torch.randn(n, d, device=DEVICE)"
   ]
  },
  {
   "cell_type": "markdown",
   "metadata": {},
   "source": [
    "### Calculate Exact kernel matrix"
   ]
  },
  {
   "cell_type": "code",
   "execution_count": 3,
   "metadata": {},
   "outputs": [],
   "source": [
    "kernel_matrix_exact = laplacian(X, X, length_scale=1.)\n",
    "kernel_matrix_exact_norm = torch.linalg.matrix_norm(kernel_matrix_exact, 'fro')"
   ]
  },
  {
   "cell_type": "markdown",
   "metadata": {},
   "source": [
    "### Define random feature map"
   ]
  },
  {
   "cell_type": "code",
   "execution_count": 4,
   "metadata": {},
   "outputs": [],
   "source": [
    "p = int(3e4)\n",
    "feature_map = LaplacianORF(input_dim=d, num_features=p, device=DEVICE)"
   ]
  },
  {
   "cell_type": "markdown",
   "metadata": {},
   "source": [
    "Calculate approximate kernel matrix"
   ]
  },
  {
   "cell_type": "code",
   "execution_count": 5,
   "metadata": {},
   "outputs": [],
   "source": [
    "Phi = feature_map(X)\n",
    "kernel_matrix_approx = Phi @ Phi.T"
   ]
  },
  {
   "cell_type": "markdown",
   "metadata": {},
   "source": [
    "## Calculate approximation error"
   ]
  },
  {
   "cell_type": "code",
   "execution_count": 6,
   "metadata": {},
   "outputs": [
    {
     "name": "stdout",
     "output_type": "stream",
     "text": [
      "Approximation error in Frobenius norm: 0.01881\n"
     ]
    }
   ],
   "source": [
    "kernel_matrix_delta = kernel_matrix_exact - kernel_matrix_approx\n",
    "kernel_matrix_delta_norm = torch.linalg.matrix_norm(kernel_matrix_delta, 'fro')\n",
    "print(f\"Approximation error in Frobenius norm: {kernel_matrix_delta_norm / kernel_matrix_exact_norm:.05f}\")"
   ]
  }
 ],
 "metadata": {
  "kernelspec": {
   "display_name": "fml_725",
   "language": "python",
   "name": "python3"
  },
  "language_info": {
   "codemirror_mode": {
    "name": "ipython",
    "version": 3
   },
   "file_extension": ".py",
   "mimetype": "text/x-python",
   "name": "python",
   "nbconvert_exporter": "python",
   "pygments_lexer": "ipython3",
   "version": "3.8.17"
  }
 },
 "nbformat": 4,
 "nbformat_minor": 2
}
